{
  "nbformat": 4,
  "nbformat_minor": 0,
  "metadata": {
    "colab": {
      "provenance": [],
      "authorship_tag": "ABX9TyMPfEnXdfAIFF+AEcGKPBwa",
      "include_colab_link": true
    },
    "kernelspec": {
      "name": "python3",
      "display_name": "Python 3"
    },
    "language_info": {
      "name": "python"
    }
  },
  "cells": [
    {
      "cell_type": "markdown",
      "metadata": {
        "id": "view-in-github",
        "colab_type": "text"
      },
      "source": [
        "<a href=\"https://colab.research.google.com/github/KettoMisaell/UFC_PREDICTION_NEURAL_NETWORKS/blob/main/PREDICCION_UFC_CON_NN.ipynb\" target=\"_parent\"><img src=\"https://colab.research.google.com/assets/colab-badge.svg\" alt=\"Open In Colab\"/></a>"
      ]
    },
    {
      "cell_type": "markdown",
      "source": [
        "# **PREDICCION DE LOS GANADORES DE COMBATES DE UFC CON REDES NEURONALES**"
      ],
      "metadata": {
        "id": "P3VSYLwIQ-gq"
      }
    },
    {
      "cell_type": "markdown",
      "source": [
        "Se utilizará el módelo XGBoost para decidir el ganador de cada combate de UFC registrado en el Data Set de Kaggle https://www.kaggle.com/datasets/mdabbert/ultimate-ufc-dataset, con 119 características diferentes por cada combate, estadísticas, de antes y después del combate, por supuesto para predecir el ganador solamente se ocuparán características de antes del combate.\n",
        "\n",
        "Anteriormente se intentó hacer predicciones con un módelo de regresión logística alcanzando un aproximado de 65% de exito en las predicciones tras varias pruebas cambiando las variables predictoras (https://github.com/KettoMisaell/UFC_logistic_prediction/blob/main/UFC_bouts_regresion_logistica.ipynb)\n",
        "\n",
        "También se realizaron predicciones con un modelo XGBOOST alcanzando cerca de un 66% de exito\n",
        "https://github.com/KettoMisaell/UFC_PREDICTION_XGBOOST/blob/main/UFC_XGBOOST_PREDICTION.ipynb\n",
        "\n",
        "Ahora es el turno de poner a pruebas las redes neuronales. Se hará uso de la librería PyTorch para este fin.\n"
      ],
      "metadata": {
        "id": "bJHjQIOgP0sj"
      }
    },
    {
      "cell_type": "markdown",
      "source": [
        "# **Carga y procesamiento de datos**"
      ],
      "metadata": {
        "id": "RwheU1G2OCO4"
      }
    },
    {
      "cell_type": "code",
      "execution_count": null,
      "metadata": {
        "id": "pT5XE3ic8Olo"
      },
      "outputs": [],
      "source": [
        "import numpy as np\n",
        "import pandas as pd\n",
        "import matplotlib.pyplot as plt\n",
        "import seaborn as sns\n",
        "pd.options.mode.chained_assignment = None  # default='warn'"
      ]
    },
    {
      "cell_type": "code",
      "source": [
        "df = pd.read_csv('/content/ufc-master.csv')"
      ],
      "metadata": {
        "id": "3z7YCoPD8Xbl"
      },
      "execution_count": null,
      "outputs": []
    },
    {
      "cell_type": "code",
      "source": [
        "df.head(10)"
      ],
      "metadata": {
        "colab": {
          "base_uri": "https://localhost:8080/",
          "height": 932
        },
        "id": "WSMjnnTx8YHE",
        "outputId": "b9af2d5d-0719-435c-8037-be65fb4a9ad4"
      },
      "execution_count": null,
      "outputs": [
        {
          "output_type": "execute_result",
          "data": {
            "text/plain": [
              "                  R_fighter         B_fighter  R_odds  B_odds        R_ev  \\\n",
              "0             Thiago Santos     Johnny Walker  -150.0     130   66.666667   \n",
              "1             Alex Oliveira        Niko Price   170.0    -200  170.000000   \n",
              "2            Misha Cirkunov   Krzysztof Jotko   110.0    -130  110.000000   \n",
              "3       Alexander Hernandez      Mike Breeden  -675.0     475   14.814815   \n",
              "4               Joe Solecki      Jared Gordon  -135.0     115   74.074074   \n",
              "5       Antonina Shevchenko     Casey O'Neill   215.0    -265  215.000000   \n",
              "6             Bethe Correia        Karol Rosa   500.0    -720  500.000000   \n",
              "7             Devonte Smith   Jamie Mullarkey  -155.0     135   64.516129   \n",
              "8  Douglas Silva de Andrade  Gaetano Pirrello  -280.0     225   35.714286   \n",
              "9           Stephanie Egger      Shanna Young  -155.0     135   64.516129   \n",
              "\n",
              "         B_ev        date                location country Winner  ...  \\\n",
              "0  130.000000  2021-10-02  Las Vegas, Nevada, USA     USA    Red  ...   \n",
              "1   50.000000  2021-10-02  Las Vegas, Nevada, USA     USA   Blue  ...   \n",
              "2   76.923077  2021-10-02  Las Vegas, Nevada, USA     USA   Blue  ...   \n",
              "3  475.000000  2021-10-02  Las Vegas, Nevada, USA     USA    Red  ...   \n",
              "4  115.000000  2021-10-02  Las Vegas, Nevada, USA     USA   Blue  ...   \n",
              "5   37.735849  2021-10-02  Las Vegas, Nevada, USA     USA   Blue  ...   \n",
              "6   13.888889  2021-10-02  Las Vegas, Nevada, USA     USA   Blue  ...   \n",
              "7  135.000000  2021-10-02  Las Vegas, Nevada, USA     USA   Blue  ...   \n",
              "8  225.000000  2021-10-02  Las Vegas, Nevada, USA     USA    Red  ...   \n",
              "9  135.000000  2021-10-02  Las Vegas, Nevada, USA     USA    Red  ...   \n",
              "\n",
              "   finish_details finish_round finish_round_time  total_fight_time_secs  \\\n",
              "0             NaN          5.0              5:00                 1500.0   \n",
              "1             NaN          3.0              5:00                  900.0   \n",
              "2             NaN          3.0              5:00                  900.0   \n",
              "3           Punch          1.0              1:20                   80.0   \n",
              "4             NaN          3.0              5:00                  900.0   \n",
              "5         Punches          2.0              4:47                  587.0   \n",
              "6             NaN          3.0              5:00                  900.0   \n",
              "7         Punches          2.0              2:51                  471.0   \n",
              "8           Punch          1.0              2:04                  124.0   \n",
              "9           Elbow          2.0              2:22                  442.0   \n",
              "\n",
              "   r_dec_odds  b_dec_odds  r_sub_odds  b_sub_odds  r_ko_odds  b_ko_odds  \n",
              "0       800.0       900.0      2000.0      1600.0     -110.0      175.0  \n",
              "1       450.0       350.0       700.0      1100.0      550.0      120.0  \n",
              "2       550.0       275.0       275.0      1400.0      600.0      185.0  \n",
              "3       175.0       900.0       500.0      3500.0      110.0     1100.0  \n",
              "4       165.0       200.0       400.0      1200.0      900.0      600.0  \n",
              "5       300.0       200.0      1600.0       330.0     1000.0      300.0  \n",
              "6       700.0      -200.0      2500.0       600.0     1600.0      400.0  \n",
              "7       330.0       450.0      2000.0       900.0      140.0      330.0  \n",
              "8       165.0       450.0      1400.0      2000.0      150.0      600.0  \n",
              "9       140.0       225.0       450.0       900.0      800.0      900.0  \n",
              "\n",
              "[10 rows x 119 columns]"
            ],
            "text/html": [
              "\n",
              "  <div id=\"df-d07554d5-9806-457e-9f25-4a8f3d4f72da\" class=\"colab-df-container\">\n",
              "    <div>\n",
              "<style scoped>\n",
              "    .dataframe tbody tr th:only-of-type {\n",
              "        vertical-align: middle;\n",
              "    }\n",
              "\n",
              "    .dataframe tbody tr th {\n",
              "        vertical-align: top;\n",
              "    }\n",
              "\n",
              "    .dataframe thead th {\n",
              "        text-align: right;\n",
              "    }\n",
              "</style>\n",
              "<table border=\"1\" class=\"dataframe\">\n",
              "  <thead>\n",
              "    <tr style=\"text-align: right;\">\n",
              "      <th></th>\n",
              "      <th>R_fighter</th>\n",
              "      <th>B_fighter</th>\n",
              "      <th>R_odds</th>\n",
              "      <th>B_odds</th>\n",
              "      <th>R_ev</th>\n",
              "      <th>B_ev</th>\n",
              "      <th>date</th>\n",
              "      <th>location</th>\n",
              "      <th>country</th>\n",
              "      <th>Winner</th>\n",
              "      <th>...</th>\n",
              "      <th>finish_details</th>\n",
              "      <th>finish_round</th>\n",
              "      <th>finish_round_time</th>\n",
              "      <th>total_fight_time_secs</th>\n",
              "      <th>r_dec_odds</th>\n",
              "      <th>b_dec_odds</th>\n",
              "      <th>r_sub_odds</th>\n",
              "      <th>b_sub_odds</th>\n",
              "      <th>r_ko_odds</th>\n",
              "      <th>b_ko_odds</th>\n",
              "    </tr>\n",
              "  </thead>\n",
              "  <tbody>\n",
              "    <tr>\n",
              "      <th>0</th>\n",
              "      <td>Thiago Santos</td>\n",
              "      <td>Johnny Walker</td>\n",
              "      <td>-150.0</td>\n",
              "      <td>130</td>\n",
              "      <td>66.666667</td>\n",
              "      <td>130.000000</td>\n",
              "      <td>2021-10-02</td>\n",
              "      <td>Las Vegas, Nevada, USA</td>\n",
              "      <td>USA</td>\n",
              "      <td>Red</td>\n",
              "      <td>...</td>\n",
              "      <td>NaN</td>\n",
              "      <td>5.0</td>\n",
              "      <td>5:00</td>\n",
              "      <td>1500.0</td>\n",
              "      <td>800.0</td>\n",
              "      <td>900.0</td>\n",
              "      <td>2000.0</td>\n",
              "      <td>1600.0</td>\n",
              "      <td>-110.0</td>\n",
              "      <td>175.0</td>\n",
              "    </tr>\n",
              "    <tr>\n",
              "      <th>1</th>\n",
              "      <td>Alex Oliveira</td>\n",
              "      <td>Niko Price</td>\n",
              "      <td>170.0</td>\n",
              "      <td>-200</td>\n",
              "      <td>170.000000</td>\n",
              "      <td>50.000000</td>\n",
              "      <td>2021-10-02</td>\n",
              "      <td>Las Vegas, Nevada, USA</td>\n",
              "      <td>USA</td>\n",
              "      <td>Blue</td>\n",
              "      <td>...</td>\n",
              "      <td>NaN</td>\n",
              "      <td>3.0</td>\n",
              "      <td>5:00</td>\n",
              "      <td>900.0</td>\n",
              "      <td>450.0</td>\n",
              "      <td>350.0</td>\n",
              "      <td>700.0</td>\n",
              "      <td>1100.0</td>\n",
              "      <td>550.0</td>\n",
              "      <td>120.0</td>\n",
              "    </tr>\n",
              "    <tr>\n",
              "      <th>2</th>\n",
              "      <td>Misha Cirkunov</td>\n",
              "      <td>Krzysztof Jotko</td>\n",
              "      <td>110.0</td>\n",
              "      <td>-130</td>\n",
              "      <td>110.000000</td>\n",
              "      <td>76.923077</td>\n",
              "      <td>2021-10-02</td>\n",
              "      <td>Las Vegas, Nevada, USA</td>\n",
              "      <td>USA</td>\n",
              "      <td>Blue</td>\n",
              "      <td>...</td>\n",
              "      <td>NaN</td>\n",
              "      <td>3.0</td>\n",
              "      <td>5:00</td>\n",
              "      <td>900.0</td>\n",
              "      <td>550.0</td>\n",
              "      <td>275.0</td>\n",
              "      <td>275.0</td>\n",
              "      <td>1400.0</td>\n",
              "      <td>600.0</td>\n",
              "      <td>185.0</td>\n",
              "    </tr>\n",
              "    <tr>\n",
              "      <th>3</th>\n",
              "      <td>Alexander Hernandez</td>\n",
              "      <td>Mike Breeden</td>\n",
              "      <td>-675.0</td>\n",
              "      <td>475</td>\n",
              "      <td>14.814815</td>\n",
              "      <td>475.000000</td>\n",
              "      <td>2021-10-02</td>\n",
              "      <td>Las Vegas, Nevada, USA</td>\n",
              "      <td>USA</td>\n",
              "      <td>Red</td>\n",
              "      <td>...</td>\n",
              "      <td>Punch</td>\n",
              "      <td>1.0</td>\n",
              "      <td>1:20</td>\n",
              "      <td>80.0</td>\n",
              "      <td>175.0</td>\n",
              "      <td>900.0</td>\n",
              "      <td>500.0</td>\n",
              "      <td>3500.0</td>\n",
              "      <td>110.0</td>\n",
              "      <td>1100.0</td>\n",
              "    </tr>\n",
              "    <tr>\n",
              "      <th>4</th>\n",
              "      <td>Joe Solecki</td>\n",
              "      <td>Jared Gordon</td>\n",
              "      <td>-135.0</td>\n",
              "      <td>115</td>\n",
              "      <td>74.074074</td>\n",
              "      <td>115.000000</td>\n",
              "      <td>2021-10-02</td>\n",
              "      <td>Las Vegas, Nevada, USA</td>\n",
              "      <td>USA</td>\n",
              "      <td>Blue</td>\n",
              "      <td>...</td>\n",
              "      <td>NaN</td>\n",
              "      <td>3.0</td>\n",
              "      <td>5:00</td>\n",
              "      <td>900.0</td>\n",
              "      <td>165.0</td>\n",
              "      <td>200.0</td>\n",
              "      <td>400.0</td>\n",
              "      <td>1200.0</td>\n",
              "      <td>900.0</td>\n",
              "      <td>600.0</td>\n",
              "    </tr>\n",
              "    <tr>\n",
              "      <th>5</th>\n",
              "      <td>Antonina Shevchenko</td>\n",
              "      <td>Casey O'Neill</td>\n",
              "      <td>215.0</td>\n",
              "      <td>-265</td>\n",
              "      <td>215.000000</td>\n",
              "      <td>37.735849</td>\n",
              "      <td>2021-10-02</td>\n",
              "      <td>Las Vegas, Nevada, USA</td>\n",
              "      <td>USA</td>\n",
              "      <td>Blue</td>\n",
              "      <td>...</td>\n",
              "      <td>Punches</td>\n",
              "      <td>2.0</td>\n",
              "      <td>4:47</td>\n",
              "      <td>587.0</td>\n",
              "      <td>300.0</td>\n",
              "      <td>200.0</td>\n",
              "      <td>1600.0</td>\n",
              "      <td>330.0</td>\n",
              "      <td>1000.0</td>\n",
              "      <td>300.0</td>\n",
              "    </tr>\n",
              "    <tr>\n",
              "      <th>6</th>\n",
              "      <td>Bethe Correia</td>\n",
              "      <td>Karol Rosa</td>\n",
              "      <td>500.0</td>\n",
              "      <td>-720</td>\n",
              "      <td>500.000000</td>\n",
              "      <td>13.888889</td>\n",
              "      <td>2021-10-02</td>\n",
              "      <td>Las Vegas, Nevada, USA</td>\n",
              "      <td>USA</td>\n",
              "      <td>Blue</td>\n",
              "      <td>...</td>\n",
              "      <td>NaN</td>\n",
              "      <td>3.0</td>\n",
              "      <td>5:00</td>\n",
              "      <td>900.0</td>\n",
              "      <td>700.0</td>\n",
              "      <td>-200.0</td>\n",
              "      <td>2500.0</td>\n",
              "      <td>600.0</td>\n",
              "      <td>1600.0</td>\n",
              "      <td>400.0</td>\n",
              "    </tr>\n",
              "    <tr>\n",
              "      <th>7</th>\n",
              "      <td>Devonte Smith</td>\n",
              "      <td>Jamie Mullarkey</td>\n",
              "      <td>-155.0</td>\n",
              "      <td>135</td>\n",
              "      <td>64.516129</td>\n",
              "      <td>135.000000</td>\n",
              "      <td>2021-10-02</td>\n",
              "      <td>Las Vegas, Nevada, USA</td>\n",
              "      <td>USA</td>\n",
              "      <td>Blue</td>\n",
              "      <td>...</td>\n",
              "      <td>Punches</td>\n",
              "      <td>2.0</td>\n",
              "      <td>2:51</td>\n",
              "      <td>471.0</td>\n",
              "      <td>330.0</td>\n",
              "      <td>450.0</td>\n",
              "      <td>2000.0</td>\n",
              "      <td>900.0</td>\n",
              "      <td>140.0</td>\n",
              "      <td>330.0</td>\n",
              "    </tr>\n",
              "    <tr>\n",
              "      <th>8</th>\n",
              "      <td>Douglas Silva de Andrade</td>\n",
              "      <td>Gaetano Pirrello</td>\n",
              "      <td>-280.0</td>\n",
              "      <td>225</td>\n",
              "      <td>35.714286</td>\n",
              "      <td>225.000000</td>\n",
              "      <td>2021-10-02</td>\n",
              "      <td>Las Vegas, Nevada, USA</td>\n",
              "      <td>USA</td>\n",
              "      <td>Red</td>\n",
              "      <td>...</td>\n",
              "      <td>Punch</td>\n",
              "      <td>1.0</td>\n",
              "      <td>2:04</td>\n",
              "      <td>124.0</td>\n",
              "      <td>165.0</td>\n",
              "      <td>450.0</td>\n",
              "      <td>1400.0</td>\n",
              "      <td>2000.0</td>\n",
              "      <td>150.0</td>\n",
              "      <td>600.0</td>\n",
              "    </tr>\n",
              "    <tr>\n",
              "      <th>9</th>\n",
              "      <td>Stephanie Egger</td>\n",
              "      <td>Shanna Young</td>\n",
              "      <td>-155.0</td>\n",
              "      <td>135</td>\n",
              "      <td>64.516129</td>\n",
              "      <td>135.000000</td>\n",
              "      <td>2021-10-02</td>\n",
              "      <td>Las Vegas, Nevada, USA</td>\n",
              "      <td>USA</td>\n",
              "      <td>Red</td>\n",
              "      <td>...</td>\n",
              "      <td>Elbow</td>\n",
              "      <td>2.0</td>\n",
              "      <td>2:22</td>\n",
              "      <td>442.0</td>\n",
              "      <td>140.0</td>\n",
              "      <td>225.0</td>\n",
              "      <td>450.0</td>\n",
              "      <td>900.0</td>\n",
              "      <td>800.0</td>\n",
              "      <td>900.0</td>\n",
              "    </tr>\n",
              "  </tbody>\n",
              "</table>\n",
              "<p>10 rows × 119 columns</p>\n",
              "</div>\n",
              "    <div class=\"colab-df-buttons\">\n",
              "\n",
              "  <div class=\"colab-df-container\">\n",
              "    <button class=\"colab-df-convert\" onclick=\"convertToInteractive('df-d07554d5-9806-457e-9f25-4a8f3d4f72da')\"\n",
              "            title=\"Convert this dataframe to an interactive table.\"\n",
              "            style=\"display:none;\">\n",
              "\n",
              "  <svg xmlns=\"http://www.w3.org/2000/svg\" height=\"24px\" viewBox=\"0 -960 960 960\">\n",
              "    <path d=\"M120-120v-720h720v720H120Zm60-500h600v-160H180v160Zm220 220h160v-160H400v160Zm0 220h160v-160H400v160ZM180-400h160v-160H180v160Zm440 0h160v-160H620v160ZM180-180h160v-160H180v160Zm440 0h160v-160H620v160Z\"/>\n",
              "  </svg>\n",
              "    </button>\n",
              "\n",
              "  <style>\n",
              "    .colab-df-container {\n",
              "      display:flex;\n",
              "      gap: 12px;\n",
              "    }\n",
              "\n",
              "    .colab-df-convert {\n",
              "      background-color: #E8F0FE;\n",
              "      border: none;\n",
              "      border-radius: 50%;\n",
              "      cursor: pointer;\n",
              "      display: none;\n",
              "      fill: #1967D2;\n",
              "      height: 32px;\n",
              "      padding: 0 0 0 0;\n",
              "      width: 32px;\n",
              "    }\n",
              "\n",
              "    .colab-df-convert:hover {\n",
              "      background-color: #E2EBFA;\n",
              "      box-shadow: 0px 1px 2px rgba(60, 64, 67, 0.3), 0px 1px 3px 1px rgba(60, 64, 67, 0.15);\n",
              "      fill: #174EA6;\n",
              "    }\n",
              "\n",
              "    .colab-df-buttons div {\n",
              "      margin-bottom: 4px;\n",
              "    }\n",
              "\n",
              "    [theme=dark] .colab-df-convert {\n",
              "      background-color: #3B4455;\n",
              "      fill: #D2E3FC;\n",
              "    }\n",
              "\n",
              "    [theme=dark] .colab-df-convert:hover {\n",
              "      background-color: #434B5C;\n",
              "      box-shadow: 0px 1px 3px 1px rgba(0, 0, 0, 0.15);\n",
              "      filter: drop-shadow(0px 1px 2px rgba(0, 0, 0, 0.3));\n",
              "      fill: #FFFFFF;\n",
              "    }\n",
              "  </style>\n",
              "\n",
              "    <script>\n",
              "      const buttonEl =\n",
              "        document.querySelector('#df-d07554d5-9806-457e-9f25-4a8f3d4f72da button.colab-df-convert');\n",
              "      buttonEl.style.display =\n",
              "        google.colab.kernel.accessAllowed ? 'block' : 'none';\n",
              "\n",
              "      async function convertToInteractive(key) {\n",
              "        const element = document.querySelector('#df-d07554d5-9806-457e-9f25-4a8f3d4f72da');\n",
              "        const dataTable =\n",
              "          await google.colab.kernel.invokeFunction('convertToInteractive',\n",
              "                                                    [key], {});\n",
              "        if (!dataTable) return;\n",
              "\n",
              "        const docLinkHtml = 'Like what you see? Visit the ' +\n",
              "          '<a target=\"_blank\" href=https://colab.research.google.com/notebooks/data_table.ipynb>data table notebook</a>'\n",
              "          + ' to learn more about interactive tables.';\n",
              "        element.innerHTML = '';\n",
              "        dataTable['output_type'] = 'display_data';\n",
              "        await google.colab.output.renderOutput(dataTable, element);\n",
              "        const docLink = document.createElement('div');\n",
              "        docLink.innerHTML = docLinkHtml;\n",
              "        element.appendChild(docLink);\n",
              "      }\n",
              "    </script>\n",
              "  </div>\n",
              "\n",
              "\n",
              "<div id=\"df-90d42728-8a3a-477a-b85a-745f22b80677\">\n",
              "  <button class=\"colab-df-quickchart\" onclick=\"quickchart('df-90d42728-8a3a-477a-b85a-745f22b80677')\"\n",
              "            title=\"Suggest charts\"\n",
              "            style=\"display:none;\">\n",
              "\n",
              "<svg xmlns=\"http://www.w3.org/2000/svg\" height=\"24px\"viewBox=\"0 0 24 24\"\n",
              "     width=\"24px\">\n",
              "    <g>\n",
              "        <path d=\"M19 3H5c-1.1 0-2 .9-2 2v14c0 1.1.9 2 2 2h14c1.1 0 2-.9 2-2V5c0-1.1-.9-2-2-2zM9 17H7v-7h2v7zm4 0h-2V7h2v10zm4 0h-2v-4h2v4z\"/>\n",
              "    </g>\n",
              "</svg>\n",
              "  </button>\n",
              "\n",
              "<style>\n",
              "  .colab-df-quickchart {\n",
              "      --bg-color: #E8F0FE;\n",
              "      --fill-color: #1967D2;\n",
              "      --hover-bg-color: #E2EBFA;\n",
              "      --hover-fill-color: #174EA6;\n",
              "      --disabled-fill-color: #AAA;\n",
              "      --disabled-bg-color: #DDD;\n",
              "  }\n",
              "\n",
              "  [theme=dark] .colab-df-quickchart {\n",
              "      --bg-color: #3B4455;\n",
              "      --fill-color: #D2E3FC;\n",
              "      --hover-bg-color: #434B5C;\n",
              "      --hover-fill-color: #FFFFFF;\n",
              "      --disabled-bg-color: #3B4455;\n",
              "      --disabled-fill-color: #666;\n",
              "  }\n",
              "\n",
              "  .colab-df-quickchart {\n",
              "    background-color: var(--bg-color);\n",
              "    border: none;\n",
              "    border-radius: 50%;\n",
              "    cursor: pointer;\n",
              "    display: none;\n",
              "    fill: var(--fill-color);\n",
              "    height: 32px;\n",
              "    padding: 0;\n",
              "    width: 32px;\n",
              "  }\n",
              "\n",
              "  .colab-df-quickchart:hover {\n",
              "    background-color: var(--hover-bg-color);\n",
              "    box-shadow: 0 1px 2px rgba(60, 64, 67, 0.3), 0 1px 3px 1px rgba(60, 64, 67, 0.15);\n",
              "    fill: var(--button-hover-fill-color);\n",
              "  }\n",
              "\n",
              "  .colab-df-quickchart-complete:disabled,\n",
              "  .colab-df-quickchart-complete:disabled:hover {\n",
              "    background-color: var(--disabled-bg-color);\n",
              "    fill: var(--disabled-fill-color);\n",
              "    box-shadow: none;\n",
              "  }\n",
              "\n",
              "  .colab-df-spinner {\n",
              "    border: 2px solid var(--fill-color);\n",
              "    border-color: transparent;\n",
              "    border-bottom-color: var(--fill-color);\n",
              "    animation:\n",
              "      spin 1s steps(1) infinite;\n",
              "  }\n",
              "\n",
              "  @keyframes spin {\n",
              "    0% {\n",
              "      border-color: transparent;\n",
              "      border-bottom-color: var(--fill-color);\n",
              "      border-left-color: var(--fill-color);\n",
              "    }\n",
              "    20% {\n",
              "      border-color: transparent;\n",
              "      border-left-color: var(--fill-color);\n",
              "      border-top-color: var(--fill-color);\n",
              "    }\n",
              "    30% {\n",
              "      border-color: transparent;\n",
              "      border-left-color: var(--fill-color);\n",
              "      border-top-color: var(--fill-color);\n",
              "      border-right-color: var(--fill-color);\n",
              "    }\n",
              "    40% {\n",
              "      border-color: transparent;\n",
              "      border-right-color: var(--fill-color);\n",
              "      border-top-color: var(--fill-color);\n",
              "    }\n",
              "    60% {\n",
              "      border-color: transparent;\n",
              "      border-right-color: var(--fill-color);\n",
              "    }\n",
              "    80% {\n",
              "      border-color: transparent;\n",
              "      border-right-color: var(--fill-color);\n",
              "      border-bottom-color: var(--fill-color);\n",
              "    }\n",
              "    90% {\n",
              "      border-color: transparent;\n",
              "      border-bottom-color: var(--fill-color);\n",
              "    }\n",
              "  }\n",
              "</style>\n",
              "\n",
              "  <script>\n",
              "    async function quickchart(key) {\n",
              "      const quickchartButtonEl =\n",
              "        document.querySelector('#' + key + ' button');\n",
              "      quickchartButtonEl.disabled = true;  // To prevent multiple clicks.\n",
              "      quickchartButtonEl.classList.add('colab-df-spinner');\n",
              "      try {\n",
              "        const charts = await google.colab.kernel.invokeFunction(\n",
              "            'suggestCharts', [key], {});\n",
              "      } catch (error) {\n",
              "        console.error('Error during call to suggestCharts:', error);\n",
              "      }\n",
              "      quickchartButtonEl.classList.remove('colab-df-spinner');\n",
              "      quickchartButtonEl.classList.add('colab-df-quickchart-complete');\n",
              "    }\n",
              "    (() => {\n",
              "      let quickchartButtonEl =\n",
              "        document.querySelector('#df-90d42728-8a3a-477a-b85a-745f22b80677 button');\n",
              "      quickchartButtonEl.style.display =\n",
              "        google.colab.kernel.accessAllowed ? 'block' : 'none';\n",
              "    })();\n",
              "  </script>\n",
              "</div>\n",
              "    </div>\n",
              "  </div>\n"
            ]
          },
          "metadata": {},
          "execution_count": 3
        }
      ]
    },
    {
      "cell_type": "markdown",
      "source": [
        "Se rellenan los valores nulos"
      ],
      "metadata": {
        "id": "KqYXLMRBOHoo"
      }
    },
    {
      "cell_type": "code",
      "source": [
        "df.fillna(0, inplace = True)"
      ],
      "metadata": {
        "id": "0eHj_-vm8ciG"
      },
      "execution_count": null,
      "outputs": []
    },
    {
      "cell_type": "markdown",
      "source": [
        "Se guardan las columnas numericas"
      ],
      "metadata": {
        "id": "dPzvtLsjOMJJ"
      }
    },
    {
      "cell_type": "code",
      "source": [
        "columnas_numericas = [x for x in df.columns if df[x].dtype in ['int64', 'float64']]"
      ],
      "metadata": {
        "id": "HoC24SXc8gfM"
      },
      "execution_count": null,
      "outputs": []
    },
    {
      "cell_type": "markdown",
      "source": [
        "Eliminamos variables que parecen no aportar nada al modelo para reducir complejidad.\n",
        "La selección de caracteristicas con poca importancia se hizo tras un analisis exploratorio mostrado en otro notebook y con un conocimiento cualitativo de las variables."
      ],
      "metadata": {
        "id": "4_aAgHMVOPZp"
      }
    },
    {
      "cell_type": "code",
      "source": [
        "elementos_a_eliminar = ['R_odds', 'B_odds','B_draw', 'R_draw', 'no_of_rounds' , 'R_win_by_Decision_Majority', 'R_win_by_Decision_Split', 'B_win_by_Decision_Majority', 'B_win_by_Decision_Split', 'empty_arena', 'constant_1', 'B_match_weightclass_rank', 'R_match_weightclass_rank', \"R_Women's Flyweight_rank\", \"R_Women's Featherweight_rank\", \"R_Women's Strawweight_rank\", \"R_Women's Bantamweight_rank\", 'R_Heavyweight_rank', 'R_Light Heavyweight_rank', 'R_Middleweight_rank', 'R_Welterweight_rank', 'R_Lightweight_rank', 'R_Featherweight_rank', 'R_Bantamweight_rank', 'R_Flyweight_rank', 'R_Pound-for-Pound_rank', \"B_Women's Flyweight_rank\", \"B_Women's Featherweight_rank\", \"B_Women's Strawweight_rank\", \"B_Women's Bantamweight_rank\", 'B_Heavyweight_rank', 'B_Light Heavyweight_rank', 'B_Middleweight_rank', 'B_Welterweight_rank', 'B_Lightweight_rank', 'B_Featherweight_rank', 'B_Bantamweight_rank', 'B_Flyweight_rank', 'B_Pound-for-Pound_rank', 'finish_round', 'total_fight_time_secs']\n",
        "\n",
        "nueva_lista = [x for x in columnas_numericas if x not in elementos_a_eliminar]"
      ],
      "metadata": {
        "id": "3ZQto7ps8mCw"
      },
      "execution_count": null,
      "outputs": []
    },
    {
      "cell_type": "markdown",
      "source": [
        "# **Analisis de componentes principales**\n"
      ],
      "metadata": {
        "id": "SpXM4nHn8puo"
      }
    },
    {
      "cell_type": "markdown",
      "source": [
        "Se hace un analisis de componentes principales para si es viable reducir aun más la dimensionalidad del modelo"
      ],
      "metadata": {
        "id": "5tTkMPXxPdGj"
      }
    },
    {
      "cell_type": "code",
      "source": [
        "from sklearn.preprocessing import StandardScaler\n",
        "scaler = StandardScaler()\n",
        "scaled = scaler.fit_transform(\n",
        "    df[nueva_lista]\n",
        ")\n",
        "scaled.T   #Normalizacion de los datos"
      ],
      "metadata": {
        "colab": {
          "base_uri": "https://localhost:8080/"
        },
        "id": "OS158pYo8n-O",
        "outputId": "c379296b-79fc-43b5-cc08-569171fe0659"
      },
      "execution_count": null,
      "outputs": [
        {
          "output_type": "execute_result",
          "data": {
            "text/plain": [
              "array([[-0.33971738,  0.90770372,  0.18339469, ..., -0.68020452,\n",
              "        -0.85708096,  0.54554921],\n",
              "       [-0.27081826, -0.85505558, -0.65843726, ...,  0.38644872,\n",
              "         1.22628987, -0.7637685 ],\n",
              "       [-0.62126175,  1.97847972,  0.67860899, ...,  0.67860899,\n",
              "        -0.62126175,  0.67860899],\n",
              "       ...,\n",
              "       [ 1.08296141,  0.37620718,  0.80025972, ..., -1.17865212,\n",
              "        -1.17865212, -1.17865212],\n",
              "       [-1.21532047,  0.34504283,  0.46325217, ..., -0.95525992,\n",
              "        -0.95525992, -0.95525992],\n",
              "       [-0.68313569, -0.79635368, -0.6625506 , ..., -1.04337475,\n",
              "        -1.04337475, -1.04337475]])"
            ]
          },
          "metadata": {},
          "execution_count": 8
        }
      ]
    },
    {
      "cell_type": "code",
      "source": [
        "from sklearn.decomposition import PCA\n",
        "\n",
        "pca = PCA(n_components=20) #PCA y su paramentro (se quiere reducir a veinte componentes)\n",
        "pca.fit(scaled) #Se ajusta a los datos escalados previamente"
      ],
      "metadata": {
        "colab": {
          "base_uri": "https://localhost:8080/",
          "height": 74
        },
        "id": "TPgvm-ZiPYzd",
        "outputId": "021dac3d-48cc-4d40-d6b6-56971a2e843e"
      },
      "execution_count": null,
      "outputs": [
        {
          "output_type": "execute_result",
          "data": {
            "text/plain": [
              "PCA(n_components=20)"
            ],
            "text/html": [
              "<style>#sk-container-id-1 {color: black;background-color: white;}#sk-container-id-1 pre{padding: 0;}#sk-container-id-1 div.sk-toggleable {background-color: white;}#sk-container-id-1 label.sk-toggleable__label {cursor: pointer;display: block;width: 100%;margin-bottom: 0;padding: 0.3em;box-sizing: border-box;text-align: center;}#sk-container-id-1 label.sk-toggleable__label-arrow:before {content: \"▸\";float: left;margin-right: 0.25em;color: #696969;}#sk-container-id-1 label.sk-toggleable__label-arrow:hover:before {color: black;}#sk-container-id-1 div.sk-estimator:hover label.sk-toggleable__label-arrow:before {color: black;}#sk-container-id-1 div.sk-toggleable__content {max-height: 0;max-width: 0;overflow: hidden;text-align: left;background-color: #f0f8ff;}#sk-container-id-1 div.sk-toggleable__content pre {margin: 0.2em;color: black;border-radius: 0.25em;background-color: #f0f8ff;}#sk-container-id-1 input.sk-toggleable__control:checked~div.sk-toggleable__content {max-height: 200px;max-width: 100%;overflow: auto;}#sk-container-id-1 input.sk-toggleable__control:checked~label.sk-toggleable__label-arrow:before {content: \"▾\";}#sk-container-id-1 div.sk-estimator input.sk-toggleable__control:checked~label.sk-toggleable__label {background-color: #d4ebff;}#sk-container-id-1 div.sk-label input.sk-toggleable__control:checked~label.sk-toggleable__label {background-color: #d4ebff;}#sk-container-id-1 input.sk-hidden--visually {border: 0;clip: rect(1px 1px 1px 1px);clip: rect(1px, 1px, 1px, 1px);height: 1px;margin: -1px;overflow: hidden;padding: 0;position: absolute;width: 1px;}#sk-container-id-1 div.sk-estimator {font-family: monospace;background-color: #f0f8ff;border: 1px dotted black;border-radius: 0.25em;box-sizing: border-box;margin-bottom: 0.5em;}#sk-container-id-1 div.sk-estimator:hover {background-color: #d4ebff;}#sk-container-id-1 div.sk-parallel-item::after {content: \"\";width: 100%;border-bottom: 1px solid gray;flex-grow: 1;}#sk-container-id-1 div.sk-label:hover label.sk-toggleable__label {background-color: #d4ebff;}#sk-container-id-1 div.sk-serial::before {content: \"\";position: absolute;border-left: 1px solid gray;box-sizing: border-box;top: 0;bottom: 0;left: 50%;z-index: 0;}#sk-container-id-1 div.sk-serial {display: flex;flex-direction: column;align-items: center;background-color: white;padding-right: 0.2em;padding-left: 0.2em;position: relative;}#sk-container-id-1 div.sk-item {position: relative;z-index: 1;}#sk-container-id-1 div.sk-parallel {display: flex;align-items: stretch;justify-content: center;background-color: white;position: relative;}#sk-container-id-1 div.sk-item::before, #sk-container-id-1 div.sk-parallel-item::before {content: \"\";position: absolute;border-left: 1px solid gray;box-sizing: border-box;top: 0;bottom: 0;left: 50%;z-index: -1;}#sk-container-id-1 div.sk-parallel-item {display: flex;flex-direction: column;z-index: 1;position: relative;background-color: white;}#sk-container-id-1 div.sk-parallel-item:first-child::after {align-self: flex-end;width: 50%;}#sk-container-id-1 div.sk-parallel-item:last-child::after {align-self: flex-start;width: 50%;}#sk-container-id-1 div.sk-parallel-item:only-child::after {width: 0;}#sk-container-id-1 div.sk-dashed-wrapped {border: 1px dashed gray;margin: 0 0.4em 0.5em 0.4em;box-sizing: border-box;padding-bottom: 0.4em;background-color: white;}#sk-container-id-1 div.sk-label label {font-family: monospace;font-weight: bold;display: inline-block;line-height: 1.2em;}#sk-container-id-1 div.sk-label-container {text-align: center;}#sk-container-id-1 div.sk-container {/* jupyter's `normalize.less` sets `[hidden] { display: none; }` but bootstrap.min.css set `[hidden] { display: none !important; }` so we also need the `!important` here to be able to override the default hidden behavior on the sphinx rendered scikit-learn.org. See: https://github.com/scikit-learn/scikit-learn/issues/21755 */display: inline-block !important;position: relative;}#sk-container-id-1 div.sk-text-repr-fallback {display: none;}</style><div id=\"sk-container-id-1\" class=\"sk-top-container\"><div class=\"sk-text-repr-fallback\"><pre>PCA(n_components=20)</pre><b>In a Jupyter environment, please rerun this cell to show the HTML representation or trust the notebook. <br />On GitHub, the HTML representation is unable to render, please try loading this page with nbviewer.org.</b></div><div class=\"sk-container\" hidden><div class=\"sk-item\"><div class=\"sk-estimator sk-toggleable\"><input class=\"sk-toggleable__control sk-hidden--visually\" id=\"sk-estimator-id-1\" type=\"checkbox\" checked><label for=\"sk-estimator-id-1\" class=\"sk-toggleable__label sk-toggleable__label-arrow\">PCA</label><div class=\"sk-toggleable__content\"><pre>PCA(n_components=20)</pre></div></div></div></div></div>"
            ]
          },
          "metadata": {},
          "execution_count": 9
        }
      ]
    },
    {
      "cell_type": "code",
      "source": [
        "pca.explained_variance_ratio_"
      ],
      "metadata": {
        "colab": {
          "base_uri": "https://localhost:8080/"
        },
        "id": "RjqY0Yl9QDlQ",
        "outputId": "cd6db3b4-6470-46a0-8450-7725790bad4b"
      },
      "execution_count": null,
      "outputs": [
        {
          "output_type": "execute_result",
          "data": {
            "text/plain": [
              "array([0.14800036, 0.10163525, 0.08545883, 0.06357606, 0.04541412,\n",
              "       0.04098947, 0.03905772, 0.03324151, 0.03221851, 0.02964421,\n",
              "       0.02780235, 0.02486135, 0.02277764, 0.02223273, 0.02057599,\n",
              "       0.01976453, 0.01710642, 0.01636173, 0.01476216, 0.01461839])"
            ]
          },
          "metadata": {},
          "execution_count": 10
        }
      ]
    },
    {
      "cell_type": "markdown",
      "source": [
        "Se puede ver que no es buena idea reducir más variables pues probablemente se perderá información"
      ],
      "metadata": {
        "id": "3Yi8yaeLQKEg"
      }
    },
    {
      "cell_type": "markdown",
      "source": [
        "# Separación del target y caractericticas"
      ],
      "metadata": {
        "id": "4Ir8nQdlQWiG"
      }
    },
    {
      "cell_type": "code",
      "source": [
        "df['Winner'] = np.where(df['Winner'] == 'Red', 1, 0)"
      ],
      "metadata": {
        "id": "dwMPd8F-Quq8"
      },
      "execution_count": null,
      "outputs": []
    },
    {
      "cell_type": "code",
      "source": [
        "X = df[nueva_lista]\n",
        "y = df['Winner']"
      ],
      "metadata": {
        "id": "pmj3kkbrQ2hk"
      },
      "execution_count": null,
      "outputs": []
    },
    {
      "cell_type": "markdown",
      "source": [
        "# Busqueda de correlaciones fuertes"
      ],
      "metadata": {
        "id": "aGon-gAPRQZw"
      }
    },
    {
      "cell_type": "markdown",
      "source": [
        "A pesar de que dediqué un ejercicio aparte al analisis exploratorio de mis datos, me parece interesante mostrar acá si hay alguna correlación fuerte entre mis variables y que significa, a pesar de que mi PCA previamente realizado sugiere que no"
      ],
      "metadata": {
        "id": "gOW3HTfgRZ9u"
      }
    },
    {
      "cell_type": "code",
      "source": [
        "matriz = X.corr()\n",
        "# Se filtraran las correlaciones mayores a .8 o las correlaciones inversas menores a -.8\n",
        "correlaciones_fuertes = matriz[(matriz > 0.8) | (matriz < -0.8)]\n"
      ],
      "metadata": {
        "id": "IJMbyoG_RZSQ"
      },
      "execution_count": null,
      "outputs": []
    },
    {
      "cell_type": "code",
      "source": [
        "correlaciones_fuertes.fillna(0, inplace = True )"
      ],
      "metadata": {
        "id": "vXIymIcoT3Xl"
      },
      "execution_count": null,
      "outputs": []
    },
    {
      "cell_type": "markdown",
      "source": [
        "Se crea un Data Frame nuevo con las correlaciones filtradas y sus repectivas columnas y filas a la que pertenece"
      ],
      "metadata": {
        "id": "pDx-jQA6UDNq"
      }
    },
    {
      "cell_type": "code",
      "source": [
        "# Tambien se elimina la diagonal principal\n",
        "posiciones_no_cero = np.where((correlaciones_fuertes != 0) & (correlaciones_fuertes != 1))\n",
        "\n",
        "valores_no_cero = correlaciones_fuertes.values[posiciones_no_cero]\n",
        "filas_no_cero, columnas_no_cero = posiciones_no_cero\n",
        "\n",
        "nombres_filas = correlaciones_fuertes.index[filas_no_cero]\n",
        "nombres_columnas = correlaciones_fuertes.columns[columnas_no_cero]\n",
        "\n",
        "df_corr = pd.DataFrame({\n",
        "    'Fila': nombres_filas,\n",
        "    'Columna': nombres_columnas,\n",
        "    'Valor': valores_no_cero\n",
        "})"
      ],
      "metadata": {
        "id": "Q8JFcT4HT-Uh"
      },
      "execution_count": null,
      "outputs": []
    },
    {
      "cell_type": "code",
      "source": [
        "df_corr"
      ],
      "metadata": {
        "colab": {
          "base_uri": "https://localhost:8080/",
          "height": 739
        },
        "id": "MeqnpcEQUcFr",
        "outputId": "eb99e493-a1c6-4e6e-8edc-b951429bee63"
      },
      "execution_count": null,
      "outputs": [
        {
          "output_type": "execute_result",
          "data": {
            "text/plain": [
              "                           Fila                      Columna     Valor\n",
              "0          B_longest_win_streak                       B_wins  0.862416\n",
              "1                      B_losses        B_total_rounds_fought  0.863597\n",
              "2         B_total_rounds_fought                     B_losses  0.863597\n",
              "3         B_total_rounds_fought  B_win_by_Decision_Unanimous  0.806052\n",
              "4         B_total_rounds_fought                       B_wins  0.932986\n",
              "5   B_win_by_Decision_Unanimous        B_total_rounds_fought  0.806052\n",
              "6                        B_wins         B_longest_win_streak  0.862416\n",
              "7                        B_wins        B_total_rounds_fought  0.932986\n",
              "8                  B_Height_cms                  B_Reach_cms  0.872720\n",
              "9                   B_Reach_cms                 B_Height_cms  0.872720\n",
              "10                 B_Weight_lbs                 R_Weight_lbs  0.961982\n",
              "11         R_longest_win_streak                       R_wins  0.831904\n",
              "12        R_total_rounds_fought                       R_wins  0.863875\n",
              "13                       R_wins         R_longest_win_streak  0.831904\n",
              "14                       R_wins        R_total_rounds_fought  0.863875\n",
              "15                 R_Height_cms                  R_Reach_cms  0.897852\n",
              "16                 R_Height_cms                 R_Weight_lbs  0.800325\n",
              "17                  R_Reach_cms                 R_Height_cms  0.897852\n",
              "18                 R_Weight_lbs                 B_Weight_lbs  0.961982\n",
              "19                 R_Weight_lbs                 R_Height_cms  0.800325\n",
              "20                      win_dif              total_round_dif  0.850553\n",
              "21              total_round_dif                      win_dif  0.850553"
            ],
            "text/html": [
              "\n",
              "  <div id=\"df-fcbcfe2d-b633-4704-ae03-c684b4e75507\" class=\"colab-df-container\">\n",
              "    <div>\n",
              "<style scoped>\n",
              "    .dataframe tbody tr th:only-of-type {\n",
              "        vertical-align: middle;\n",
              "    }\n",
              "\n",
              "    .dataframe tbody tr th {\n",
              "        vertical-align: top;\n",
              "    }\n",
              "\n",
              "    .dataframe thead th {\n",
              "        text-align: right;\n",
              "    }\n",
              "</style>\n",
              "<table border=\"1\" class=\"dataframe\">\n",
              "  <thead>\n",
              "    <tr style=\"text-align: right;\">\n",
              "      <th></th>\n",
              "      <th>Fila</th>\n",
              "      <th>Columna</th>\n",
              "      <th>Valor</th>\n",
              "    </tr>\n",
              "  </thead>\n",
              "  <tbody>\n",
              "    <tr>\n",
              "      <th>0</th>\n",
              "      <td>B_longest_win_streak</td>\n",
              "      <td>B_wins</td>\n",
              "      <td>0.862416</td>\n",
              "    </tr>\n",
              "    <tr>\n",
              "      <th>1</th>\n",
              "      <td>B_losses</td>\n",
              "      <td>B_total_rounds_fought</td>\n",
              "      <td>0.863597</td>\n",
              "    </tr>\n",
              "    <tr>\n",
              "      <th>2</th>\n",
              "      <td>B_total_rounds_fought</td>\n",
              "      <td>B_losses</td>\n",
              "      <td>0.863597</td>\n",
              "    </tr>\n",
              "    <tr>\n",
              "      <th>3</th>\n",
              "      <td>B_total_rounds_fought</td>\n",
              "      <td>B_win_by_Decision_Unanimous</td>\n",
              "      <td>0.806052</td>\n",
              "    </tr>\n",
              "    <tr>\n",
              "      <th>4</th>\n",
              "      <td>B_total_rounds_fought</td>\n",
              "      <td>B_wins</td>\n",
              "      <td>0.932986</td>\n",
              "    </tr>\n",
              "    <tr>\n",
              "      <th>5</th>\n",
              "      <td>B_win_by_Decision_Unanimous</td>\n",
              "      <td>B_total_rounds_fought</td>\n",
              "      <td>0.806052</td>\n",
              "    </tr>\n",
              "    <tr>\n",
              "      <th>6</th>\n",
              "      <td>B_wins</td>\n",
              "      <td>B_longest_win_streak</td>\n",
              "      <td>0.862416</td>\n",
              "    </tr>\n",
              "    <tr>\n",
              "      <th>7</th>\n",
              "      <td>B_wins</td>\n",
              "      <td>B_total_rounds_fought</td>\n",
              "      <td>0.932986</td>\n",
              "    </tr>\n",
              "    <tr>\n",
              "      <th>8</th>\n",
              "      <td>B_Height_cms</td>\n",
              "      <td>B_Reach_cms</td>\n",
              "      <td>0.872720</td>\n",
              "    </tr>\n",
              "    <tr>\n",
              "      <th>9</th>\n",
              "      <td>B_Reach_cms</td>\n",
              "      <td>B_Height_cms</td>\n",
              "      <td>0.872720</td>\n",
              "    </tr>\n",
              "    <tr>\n",
              "      <th>10</th>\n",
              "      <td>B_Weight_lbs</td>\n",
              "      <td>R_Weight_lbs</td>\n",
              "      <td>0.961982</td>\n",
              "    </tr>\n",
              "    <tr>\n",
              "      <th>11</th>\n",
              "      <td>R_longest_win_streak</td>\n",
              "      <td>R_wins</td>\n",
              "      <td>0.831904</td>\n",
              "    </tr>\n",
              "    <tr>\n",
              "      <th>12</th>\n",
              "      <td>R_total_rounds_fought</td>\n",
              "      <td>R_wins</td>\n",
              "      <td>0.863875</td>\n",
              "    </tr>\n",
              "    <tr>\n",
              "      <th>13</th>\n",
              "      <td>R_wins</td>\n",
              "      <td>R_longest_win_streak</td>\n",
              "      <td>0.831904</td>\n",
              "    </tr>\n",
              "    <tr>\n",
              "      <th>14</th>\n",
              "      <td>R_wins</td>\n",
              "      <td>R_total_rounds_fought</td>\n",
              "      <td>0.863875</td>\n",
              "    </tr>\n",
              "    <tr>\n",
              "      <th>15</th>\n",
              "      <td>R_Height_cms</td>\n",
              "      <td>R_Reach_cms</td>\n",
              "      <td>0.897852</td>\n",
              "    </tr>\n",
              "    <tr>\n",
              "      <th>16</th>\n",
              "      <td>R_Height_cms</td>\n",
              "      <td>R_Weight_lbs</td>\n",
              "      <td>0.800325</td>\n",
              "    </tr>\n",
              "    <tr>\n",
              "      <th>17</th>\n",
              "      <td>R_Reach_cms</td>\n",
              "      <td>R_Height_cms</td>\n",
              "      <td>0.897852</td>\n",
              "    </tr>\n",
              "    <tr>\n",
              "      <th>18</th>\n",
              "      <td>R_Weight_lbs</td>\n",
              "      <td>B_Weight_lbs</td>\n",
              "      <td>0.961982</td>\n",
              "    </tr>\n",
              "    <tr>\n",
              "      <th>19</th>\n",
              "      <td>R_Weight_lbs</td>\n",
              "      <td>R_Height_cms</td>\n",
              "      <td>0.800325</td>\n",
              "    </tr>\n",
              "    <tr>\n",
              "      <th>20</th>\n",
              "      <td>win_dif</td>\n",
              "      <td>total_round_dif</td>\n",
              "      <td>0.850553</td>\n",
              "    </tr>\n",
              "    <tr>\n",
              "      <th>21</th>\n",
              "      <td>total_round_dif</td>\n",
              "      <td>win_dif</td>\n",
              "      <td>0.850553</td>\n",
              "    </tr>\n",
              "  </tbody>\n",
              "</table>\n",
              "</div>\n",
              "    <div class=\"colab-df-buttons\">\n",
              "\n",
              "  <div class=\"colab-df-container\">\n",
              "    <button class=\"colab-df-convert\" onclick=\"convertToInteractive('df-fcbcfe2d-b633-4704-ae03-c684b4e75507')\"\n",
              "            title=\"Convert this dataframe to an interactive table.\"\n",
              "            style=\"display:none;\">\n",
              "\n",
              "  <svg xmlns=\"http://www.w3.org/2000/svg\" height=\"24px\" viewBox=\"0 -960 960 960\">\n",
              "    <path d=\"M120-120v-720h720v720H120Zm60-500h600v-160H180v160Zm220 220h160v-160H400v160Zm0 220h160v-160H400v160ZM180-400h160v-160H180v160Zm440 0h160v-160H620v160ZM180-180h160v-160H180v160Zm440 0h160v-160H620v160Z\"/>\n",
              "  </svg>\n",
              "    </button>\n",
              "\n",
              "  <style>\n",
              "    .colab-df-container {\n",
              "      display:flex;\n",
              "      gap: 12px;\n",
              "    }\n",
              "\n",
              "    .colab-df-convert {\n",
              "      background-color: #E8F0FE;\n",
              "      border: none;\n",
              "      border-radius: 50%;\n",
              "      cursor: pointer;\n",
              "      display: none;\n",
              "      fill: #1967D2;\n",
              "      height: 32px;\n",
              "      padding: 0 0 0 0;\n",
              "      width: 32px;\n",
              "    }\n",
              "\n",
              "    .colab-df-convert:hover {\n",
              "      background-color: #E2EBFA;\n",
              "      box-shadow: 0px 1px 2px rgba(60, 64, 67, 0.3), 0px 1px 3px 1px rgba(60, 64, 67, 0.15);\n",
              "      fill: #174EA6;\n",
              "    }\n",
              "\n",
              "    .colab-df-buttons div {\n",
              "      margin-bottom: 4px;\n",
              "    }\n",
              "\n",
              "    [theme=dark] .colab-df-convert {\n",
              "      background-color: #3B4455;\n",
              "      fill: #D2E3FC;\n",
              "    }\n",
              "\n",
              "    [theme=dark] .colab-df-convert:hover {\n",
              "      background-color: #434B5C;\n",
              "      box-shadow: 0px 1px 3px 1px rgba(0, 0, 0, 0.15);\n",
              "      filter: drop-shadow(0px 1px 2px rgba(0, 0, 0, 0.3));\n",
              "      fill: #FFFFFF;\n",
              "    }\n",
              "  </style>\n",
              "\n",
              "    <script>\n",
              "      const buttonEl =\n",
              "        document.querySelector('#df-fcbcfe2d-b633-4704-ae03-c684b4e75507 button.colab-df-convert');\n",
              "      buttonEl.style.display =\n",
              "        google.colab.kernel.accessAllowed ? 'block' : 'none';\n",
              "\n",
              "      async function convertToInteractive(key) {\n",
              "        const element = document.querySelector('#df-fcbcfe2d-b633-4704-ae03-c684b4e75507');\n",
              "        const dataTable =\n",
              "          await google.colab.kernel.invokeFunction('convertToInteractive',\n",
              "                                                    [key], {});\n",
              "        if (!dataTable) return;\n",
              "\n",
              "        const docLinkHtml = 'Like what you see? Visit the ' +\n",
              "          '<a target=\"_blank\" href=https://colab.research.google.com/notebooks/data_table.ipynb>data table notebook</a>'\n",
              "          + ' to learn more about interactive tables.';\n",
              "        element.innerHTML = '';\n",
              "        dataTable['output_type'] = 'display_data';\n",
              "        await google.colab.output.renderOutput(dataTable, element);\n",
              "        const docLink = document.createElement('div');\n",
              "        docLink.innerHTML = docLinkHtml;\n",
              "        element.appendChild(docLink);\n",
              "      }\n",
              "    </script>\n",
              "  </div>\n",
              "\n",
              "\n",
              "<div id=\"df-a569b5bf-49db-43b9-8b04-d640ccb3ef9d\">\n",
              "  <button class=\"colab-df-quickchart\" onclick=\"quickchart('df-a569b5bf-49db-43b9-8b04-d640ccb3ef9d')\"\n",
              "            title=\"Suggest charts\"\n",
              "            style=\"display:none;\">\n",
              "\n",
              "<svg xmlns=\"http://www.w3.org/2000/svg\" height=\"24px\"viewBox=\"0 0 24 24\"\n",
              "     width=\"24px\">\n",
              "    <g>\n",
              "        <path d=\"M19 3H5c-1.1 0-2 .9-2 2v14c0 1.1.9 2 2 2h14c1.1 0 2-.9 2-2V5c0-1.1-.9-2-2-2zM9 17H7v-7h2v7zm4 0h-2V7h2v10zm4 0h-2v-4h2v4z\"/>\n",
              "    </g>\n",
              "</svg>\n",
              "  </button>\n",
              "\n",
              "<style>\n",
              "  .colab-df-quickchart {\n",
              "      --bg-color: #E8F0FE;\n",
              "      --fill-color: #1967D2;\n",
              "      --hover-bg-color: #E2EBFA;\n",
              "      --hover-fill-color: #174EA6;\n",
              "      --disabled-fill-color: #AAA;\n",
              "      --disabled-bg-color: #DDD;\n",
              "  }\n",
              "\n",
              "  [theme=dark] .colab-df-quickchart {\n",
              "      --bg-color: #3B4455;\n",
              "      --fill-color: #D2E3FC;\n",
              "      --hover-bg-color: #434B5C;\n",
              "      --hover-fill-color: #FFFFFF;\n",
              "      --disabled-bg-color: #3B4455;\n",
              "      --disabled-fill-color: #666;\n",
              "  }\n",
              "\n",
              "  .colab-df-quickchart {\n",
              "    background-color: var(--bg-color);\n",
              "    border: none;\n",
              "    border-radius: 50%;\n",
              "    cursor: pointer;\n",
              "    display: none;\n",
              "    fill: var(--fill-color);\n",
              "    height: 32px;\n",
              "    padding: 0;\n",
              "    width: 32px;\n",
              "  }\n",
              "\n",
              "  .colab-df-quickchart:hover {\n",
              "    background-color: var(--hover-bg-color);\n",
              "    box-shadow: 0 1px 2px rgba(60, 64, 67, 0.3), 0 1px 3px 1px rgba(60, 64, 67, 0.15);\n",
              "    fill: var(--button-hover-fill-color);\n",
              "  }\n",
              "\n",
              "  .colab-df-quickchart-complete:disabled,\n",
              "  .colab-df-quickchart-complete:disabled:hover {\n",
              "    background-color: var(--disabled-bg-color);\n",
              "    fill: var(--disabled-fill-color);\n",
              "    box-shadow: none;\n",
              "  }\n",
              "\n",
              "  .colab-df-spinner {\n",
              "    border: 2px solid var(--fill-color);\n",
              "    border-color: transparent;\n",
              "    border-bottom-color: var(--fill-color);\n",
              "    animation:\n",
              "      spin 1s steps(1) infinite;\n",
              "  }\n",
              "\n",
              "  @keyframes spin {\n",
              "    0% {\n",
              "      border-color: transparent;\n",
              "      border-bottom-color: var(--fill-color);\n",
              "      border-left-color: var(--fill-color);\n",
              "    }\n",
              "    20% {\n",
              "      border-color: transparent;\n",
              "      border-left-color: var(--fill-color);\n",
              "      border-top-color: var(--fill-color);\n",
              "    }\n",
              "    30% {\n",
              "      border-color: transparent;\n",
              "      border-left-color: var(--fill-color);\n",
              "      border-top-color: var(--fill-color);\n",
              "      border-right-color: var(--fill-color);\n",
              "    }\n",
              "    40% {\n",
              "      border-color: transparent;\n",
              "      border-right-color: var(--fill-color);\n",
              "      border-top-color: var(--fill-color);\n",
              "    }\n",
              "    60% {\n",
              "      border-color: transparent;\n",
              "      border-right-color: var(--fill-color);\n",
              "    }\n",
              "    80% {\n",
              "      border-color: transparent;\n",
              "      border-right-color: var(--fill-color);\n",
              "      border-bottom-color: var(--fill-color);\n",
              "    }\n",
              "    90% {\n",
              "      border-color: transparent;\n",
              "      border-bottom-color: var(--fill-color);\n",
              "    }\n",
              "  }\n",
              "</style>\n",
              "\n",
              "  <script>\n",
              "    async function quickchart(key) {\n",
              "      const quickchartButtonEl =\n",
              "        document.querySelector('#' + key + ' button');\n",
              "      quickchartButtonEl.disabled = true;  // To prevent multiple clicks.\n",
              "      quickchartButtonEl.classList.add('colab-df-spinner');\n",
              "      try {\n",
              "        const charts = await google.colab.kernel.invokeFunction(\n",
              "            'suggestCharts', [key], {});\n",
              "      } catch (error) {\n",
              "        console.error('Error during call to suggestCharts:', error);\n",
              "      }\n",
              "      quickchartButtonEl.classList.remove('colab-df-spinner');\n",
              "      quickchartButtonEl.classList.add('colab-df-quickchart-complete');\n",
              "    }\n",
              "    (() => {\n",
              "      let quickchartButtonEl =\n",
              "        document.querySelector('#df-a569b5bf-49db-43b9-8b04-d640ccb3ef9d button');\n",
              "      quickchartButtonEl.style.display =\n",
              "        google.colab.kernel.accessAllowed ? 'block' : 'none';\n",
              "    })();\n",
              "  </script>\n",
              "</div>\n",
              "    </div>\n",
              "  </div>\n"
            ]
          },
          "metadata": {},
          "execution_count": 17
        }
      ]
    },
    {
      "cell_type": "markdown",
      "source": [
        "22 correlaciones, que en realidad son 11 porque se repiten la mitad porque la fila toma el valor de columna y viceversa, sin embargo no hay mucho que nos de información valiosa de nuestros  datos, por ejemplo la mayor correlacion es entre el peso del peleador de la esquina roja y el peso del peleador de la esquina azul, situación obvia ya que las peleas se realizan por categorías de peso"
      ],
      "metadata": {
        "id": "yc1oiPW2UvQW"
      }
    },
    {
      "cell_type": "markdown",
      "source": [
        "# Normalización"
      ],
      "metadata": {
        "id": "UBhXoayEV9gp"
      }
    },
    {
      "cell_type": "code",
      "source": [
        "from sklearn.preprocessing import StandardScaler\n",
        "\n",
        "# Se crea el objeto de la clase StandardScaler\n",
        "scaler = StandardScaler()\n",
        "\n",
        "# Normaliza cada columna del dataframe por separado\n",
        "for column in X.columns:\n",
        "    X[column] = scaler.fit_transform(X[column].values.reshape(-1, 1))"
      ],
      "metadata": {
        "id": "JfCSKf6_VaCl"
      },
      "execution_count": null,
      "outputs": []
    },
    {
      "cell_type": "markdown",
      "source": [
        "En el ejercicio de XGBOOST referenciado anteriormente explico porque ocupo esta normalización"
      ],
      "metadata": {
        "id": "5lxzfJYYWPdB"
      }
    },
    {
      "cell_type": "markdown",
      "source": [
        "# Separación de la data de entrenamiento y test"
      ],
      "metadata": {
        "id": "NRHniGz3WC-2"
      }
    },
    {
      "cell_type": "code",
      "source": [
        "from sklearn.model_selection import train_test_split\n",
        "from sklearn.metrics import accuracy_score\n",
        "import statsmodels.api as sm\n",
        "\n",
        "X_train, X_test, y_train, y_test = train_test_split(\n",
        "                                        X,\n",
        "                                        y.values.reshape(-1,1),\n",
        "                                        train_size   = 0.7,\n",
        "                                        random_state = 1234,\n",
        "                                        shuffle      = True\n",
        "                                    )"
      ],
      "metadata": {
        "id": "k2LFntZUWCc5"
      },
      "execution_count": null,
      "outputs": []
    },
    {
      "cell_type": "markdown",
      "source": [
        "En el caso de la división probé con distintos tamaños de entrenamiento y con el que obtuve mejores resultados es 70% de data de entrenamiento y 30% de test."
      ],
      "metadata": {
        "id": "HtCVn13OWinh"
      }
    },
    {
      "cell_type": "markdown",
      "source": [
        "# Arquitectura del modelo"
      ],
      "metadata": {
        "id": "fpu7LJzbWxF7"
      }
    },
    {
      "cell_type": "code",
      "source": [
        "import torch\n",
        "import torch.nn as nn\n",
        "import torch.optim as optim\n",
        "\n",
        "class FighterPredictionModel(nn.Module):\n",
        "    def __init__(self, input_dim, hidden_dim, output_dim):\n",
        "        super(FighterPredictionModel, self).__init__()\n",
        "\n",
        "        # Capa de entrada\n",
        "        self.input_layer = nn.Linear(input_dim, hidden_dim)\n",
        "\n",
        "        # Capas ocultas (puedes ajustar el número y el tamaño)\n",
        "        self.hidden_layer1 = nn.Linear(hidden_dim, 50)\n",
        "        self.hidden_layer2 = nn.Linear(50, 45)\n",
        "        self.hidden_layer3 = nn.Linear(45, 30)\n",
        "        #self.hidden_layer4 = nn.Linear(30, 20)\n",
        "\n",
        "        # Capa de salida\n",
        "        self.output_layer = nn.Linear(30, output_dim)\n",
        "\n",
        "        # Función de activación\n",
        "        self.sigmoid = nn.Sigmoid()\n",
        "        self.LogSig = nn.LogSigmoid()\n",
        "        self.Tanh = nn.Tanh()\n",
        "        self.relu = nn.ReLU()\n",
        "\n",
        "    def forward(self, x):\n",
        "        # Propagación hacia adelante\n",
        "        x = self.input_layer(x)\n",
        "        x = self.LogSig(x)\n",
        "\n",
        "        x = self.hidden_layer1(x)\n",
        "        x = self.LogSig(x)\n",
        "\n",
        "        x = self.hidden_layer2(x)\n",
        "        x = self.LogSig(x)\n",
        "\n",
        "        x = self.hidden_layer3(x)\n",
        "        x = self.Tanh(x)\n",
        "\n",
        "        #x = self.hidden_layer4(x)\n",
        "        #x= self.Tanh(x)\n",
        "\n",
        "        x = self.output_layer(x)\n",
        "        x = self.sigmoid(x)\n",
        "\n",
        "        return x\n",
        "\n",
        "# Definición de hiperparámetros\n",
        "input_dim = 63  # Número de características de entrada\n",
        "hidden_dim = 60  # Tamaño de las capas ocultas\n",
        "output_dim = 1  # Un valor de salida para la clasificación binaria (ganar o perder)\n",
        "\n",
        "# Crear una instancia del modelo\n",
        "model = FighterPredictionModel(input_dim, hidden_dim, output_dim)\n",
        "\n",
        "# Función de pérdida y optimizador\n",
        "criterion = nn.L1Loss()\n",
        "optimizer = optim.Adam(model.parameters(), lr=0.0003)\n",
        "\n",
        "print(model)\n"
      ],
      "metadata": {
        "colab": {
          "base_uri": "https://localhost:8080/"
        },
        "id": "6NZZCqiBWjng",
        "outputId": "5aeb935c-81b0-489a-a290-6ee1f23afc6b"
      },
      "execution_count": null,
      "outputs": [
        {
          "output_type": "stream",
          "name": "stdout",
          "text": [
            "FighterPredictionModel(\n",
            "  (input_layer): Linear(in_features=63, out_features=60, bias=True)\n",
            "  (hidden_layer1): Linear(in_features=60, out_features=50, bias=True)\n",
            "  (hidden_layer2): Linear(in_features=50, out_features=45, bias=True)\n",
            "  (hidden_layer3): Linear(in_features=45, out_features=30, bias=True)\n",
            "  (output_layer): Linear(in_features=30, out_features=1, bias=True)\n",
            "  (sigmoid): Sigmoid()\n",
            "  (LogSig): LogSigmoid()\n",
            "  (Tanh): Tanh()\n",
            "  (relu): ReLU()\n",
            ")\n"
          ]
        }
      ]
    },
    {
      "cell_type": "markdown",
      "source": [
        "# Conversión de los datos a tensores"
      ],
      "metadata": {
        "id": "fCdnGurjXDFA"
      }
    },
    {
      "cell_type": "code",
      "source": [
        "X_train = X_train.values\n",
        "\n",
        "X_test = X_test.values\n",
        "\n",
        "# Se convierten los datos en tensores de PyTorch\n",
        "X_train = torch.tensor(X_train, dtype=torch.float32)\n",
        "y_train = torch.tensor(y_train, dtype=torch.float32)\n",
        "\n",
        "X_test = torch.tensor(X_test, dtype=torch.float32)\n",
        "y_test = torch.tensor(y_test, dtype=torch.float32)"
      ],
      "metadata": {
        "id": "qQO-VQ9jW_X3"
      },
      "execution_count": null,
      "outputs": []
    },
    {
      "cell_type": "markdown",
      "source": [
        "# Entrenamiento"
      ],
      "metadata": {
        "id": "Z6uofawmYP9f"
      }
    },
    {
      "cell_type": "code",
      "source": [
        "torch.manual_seed(42)\n",
        "\n",
        "#cuántas veces el modelo pasará por los datos de entrenamiento\n",
        "epocas = 1500\n",
        "\n",
        "\n",
        "entrenamiento_loss = []\n",
        "test_loss = []\n",
        "\n",
        "for epoca in range(epocas):\n",
        "\n",
        "\n",
        "    #modelo en modo entrenamiento\n",
        "    model.train()\n",
        "\n",
        "    # 1. Pase hacia adelante los datos usando el método forward()\n",
        "    y_predc = model(X_train)\n",
        "\n",
        "    # 2. Calcula la pérdida\n",
        "    perdida = criterion(y_predc, y_train)\n",
        "\n",
        "    # 3. Gradiente cero del optomizador\n",
        "    optimizer.zero_grad()\n",
        "\n",
        "    # 4. Pérdida al revés\n",
        "    perdida.backward()\n",
        "\n",
        "    # 5. Progreso del optimizador\n",
        "    optimizer.step()\n",
        "\n",
        "    ### Función de prueba\n",
        "\n",
        "\n",
        "    model.eval()\n",
        "\n",
        "    with torch.inference_mode():\n",
        "\n",
        "\n",
        "      prueba_predc = model(X_test)\n",
        "\n",
        "      # 2. Calcular la pérdida en datos de prueba\n",
        "      prueb_perd = criterion(prueba_predc, y_test.type(torch.float))\n",
        "\n",
        "\n",
        "      if epoca % 50 == 0:\n",
        "        entrenamiento_loss.append(perdida.detach().numpy())\n",
        "        test_loss.append(prueb_perd.detach().numpy())\n",
        "        print(f\"Epoca: {epoca} | Entrenamiento pérdida: {perdida} | Test pérdida {prueb_perd}\")"
      ],
      "metadata": {
        "colab": {
          "base_uri": "https://localhost:8080/"
        },
        "id": "uC9Pj1e7YNAD",
        "outputId": "1b88cef2-d07e-49a7-d19f-61f81ab809e4"
      },
      "execution_count": null,
      "outputs": [
        {
          "output_type": "stream",
          "name": "stdout",
          "text": [
            "Epoca: 0 | Entrenamiento pérdida: 0.5022751092910767 | Test pérdida 0.5005347728729248\n",
            "Epoca: 50 | Entrenamiento pérdida: 0.4354635179042816 | Test pérdida 0.4324224889278412\n",
            "Epoca: 100 | Entrenamiento pérdida: 0.4229806065559387 | Test pérdida 0.4199957847595215\n",
            "Epoca: 150 | Entrenamiento pérdida: 0.42061561346054077 | Test pérdida 0.41759759187698364\n",
            "Epoca: 200 | Entrenamiento pérdida: 0.4197842478752136 | Test pérdida 0.4167408049106598\n",
            "Epoca: 250 | Entrenamiento pérdida: 0.4192641079425812 | Test pérdida 0.41620343923568726\n",
            "Epoca: 300 | Entrenamiento pérdida: 0.41888460516929626 | Test pérdida 0.41581130027770996\n",
            "Epoca: 350 | Entrenamiento pérdida: 0.4185900390148163 | Test pérdida 0.4155065715312958\n",
            "Epoca: 400 | Entrenamiento pérdida: 0.4183521270751953 | Test pérdida 0.41525983810424805\n",
            "Epoca: 450 | Entrenamiento pérdida: 0.4181528687477112 | Test pérdida 0.4150521457195282\n",
            "Epoca: 500 | Entrenamiento pérdida: 0.4179782569408417 | Test pérdida 0.41486868262290955\n",
            "Epoca: 550 | Entrenamiento pérdida: 0.41781359910964966 | Test pérdida 0.4146934449672699\n",
            "Epoca: 600 | Entrenamiento pérdida: 0.4176342487335205 | Test pérdida 0.4144991338253021\n",
            "Epoca: 650 | Entrenamiento pérdida: 0.41736331582069397 | Test pérdida 0.4142008125782013\n",
            "Epoca: 700 | Entrenamiento pérdida: 0.4164187014102936 | Test pérdida 0.41316208243370056\n",
            "Epoca: 750 | Entrenamiento pérdida: 0.3903155028820038 | Test pérdida 0.38367703557014465\n",
            "Epoca: 800 | Entrenamiento pérdida: 0.33739936351776123 | Test pérdida 0.35652661323547363\n",
            "Epoca: 850 | Entrenamiento pérdida: 0.3154716193675995 | Test pérdida 0.3564503490924835\n",
            "Epoca: 900 | Entrenamiento pérdida: 0.3024192452430725 | Test pérdida 0.35740360617637634\n",
            "Epoca: 950 | Entrenamiento pérdida: 0.2953668534755707 | Test pérdida 0.3545861840248108\n",
            "Epoca: 1000 | Entrenamiento pérdida: 0.29142478108406067 | Test pérdida 0.354037880897522\n",
            "Epoca: 1050 | Entrenamiento pérdida: 0.29004010558128357 | Test pérdida 0.35418012738227844\n",
            "Epoca: 1100 | Entrenamiento pérdida: 0.2890353500843048 | Test pérdida 0.3528238832950592\n",
            "Epoca: 1150 | Entrenamiento pérdida: 0.2887735664844513 | Test pérdida 0.35235467553138733\n",
            "Epoca: 1200 | Entrenamiento pérdida: 0.2886432409286499 | Test pérdida 0.35205385088920593\n",
            "Epoca: 1250 | Entrenamiento pérdida: 0.28832027316093445 | Test pérdida 0.35349583625793457\n",
            "Epoca: 1300 | Entrenamiento pérdida: 0.2882041931152344 | Test pérdida 0.3523887097835541\n",
            "Epoca: 1350 | Entrenamiento pérdida: 0.2881515324115753 | Test pérdida 0.3520869016647339\n",
            "Epoca: 1400 | Entrenamiento pérdida: 0.28757932782173157 | Test pérdida 0.3515484929084778\n",
            "Epoca: 1450 | Entrenamiento pérdida: 0.2872426211833954 | Test pérdida 0.3518886864185333\n"
          ]
        }
      ]
    },
    {
      "cell_type": "markdown",
      "source": [
        "Visualización de la perdida entrenamiento y de test"
      ],
      "metadata": {
        "id": "4bPtvalQEJDX"
      }
    },
    {
      "cell_type": "code",
      "source": [
        "# Traza las curvas de pérdida\n",
        "plt.plot(entrenamiento_loss, label=\"Perd entrenamiento\")\n",
        "plt.plot(test_loss, label=\"Perd prueba\")\n",
        "plt.ylabel(\"Pérdida\")\n",
        "plt.xlabel(\"Epoca\")\n",
        "plt.legend()"
      ],
      "metadata": {
        "colab": {
          "base_uri": "https://localhost:8080/",
          "height": 467
        },
        "id": "j8mEiPD_EIWx",
        "outputId": "944da2dd-8b57-455f-a8d8-c6dcb21a5680"
      },
      "execution_count": null,
      "outputs": [
        {
          "output_type": "execute_result",
          "data": {
            "text/plain": [
              "<matplotlib.legend.Legend at 0x7801544d5330>"
            ]
          },
          "metadata": {},
          "execution_count": 20
        },
        {
          "output_type": "display_data",
          "data": {
            "text/plain": [
              "<Figure size 640x480 with 1 Axes>"
            ],
            "image/png": "[encoded data removed]"
          },
          "metadata": {}
        }
      ]
    },
    {
      "cell_type": "markdown",
      "source": [
        "# Evaluación"
      ],
      "metadata": {
        "id": "Q3pICSQaFMm7"
      }
    },
    {
      "cell_type": "code",
      "source": [
        "# 1. Configura el modelo en modo de evaluación\n",
        "model.eval()\n",
        "\n",
        "# 2. Configura el administrador de contexto del modo de inferencia\n",
        "with torch.inference_mode():\n",
        "\n",
        "  y_predc = model(X_test)"
      ],
      "metadata": {
        "id": "VeeBL2JVFS4G"
      },
      "execution_count": null,
      "outputs": []
    },
    {
      "cell_type": "code",
      "source": [
        "# Redondear los valores continuos a valores enteros\n",
        "y_predc = torch.round(y_predc).to(torch.int)\n",
        "\n",
        "accuracy = accuracy_score(\n",
        "            y_true    = y_test,\n",
        "            y_pred    = y_predc,\n",
        "            normalize = True\n",
        "           )\n",
        "print(\"\")\n",
        "print(f\"El modelo tuvo un porcentaje de precision de : {100*accuracy}%\")"
      ],
      "metadata": {
        "colab": {
          "base_uri": "https://localhost:8080/"
        },
        "id": "TPMR9SjMGo9D",
        "outputId": "0a2a7cd0-d4f8-44ae-8638-835fe7a7cb32"
      },
      "execution_count": null,
      "outputs": [
        {
          "output_type": "stream",
          "name": "stdout",
          "text": [
            "\n",
            "El modelo tuvo un porcentaje de precision de : 64.87406398910824%\n"
          ]
        }
      ]
    },
    {
      "cell_type": "markdown",
      "source": [
        "# Se guarda el modelo"
      ],
      "metadata": {
        "id": "Pft85UUkMAkq"
      }
    },
    {
      "cell_type": "code",
      "source": [
        "ruta_modelo = 'mejor_modelo.pth'\n",
        "torch.save({\n",
        "    'modelo_estado': model.state_dict(),\n",
        "    'optimizador_estado': optimizer.state_dict(),\n",
        "    'criterio_estado': criterion.state_dict(),\n",
        "}, ruta_modelo)"
      ],
      "metadata": {
        "id": "ckYFRJjcLv91"
      },
      "execution_count": null,
      "outputs": []
    },
    {
      "cell_type": "markdown",
      "source": [
        "Al obtener resultados bastantes similares con los tres modelos, es coherente pensar que la naturaleza misma de los datos muy probablemente no nos permitirá hacer mucho mejores predicciones, los deportes de combate al igual que la mayoría de competencias deportivas, están sometidas a un número enorme de varibles que no pueden ser recolectadas en un DataSet, variables que implican las emociones humanas o factores externos sometidos al azar, sin embargo, es emocionante crear modelos que puedan aproximar estos resultados."
      ],
      "metadata": {
        "id": "WK14o_nYRLjE"
      }
    }
  ]
}